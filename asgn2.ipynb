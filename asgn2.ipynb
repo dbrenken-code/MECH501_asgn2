{
 "cells": [
  {
   "cell_type": "markdown",
   "id": "cd8686b48fd8c7fd",
   "metadata": {
    "collapsed": false
   },
   "source": [
    "#Assignment 2, MECH 501#\n",
    "David Brenken 260786037\n",
    "\n",
    "Task 1. The problem, related to mechanical engineering, is: can a CNN classify sounds? And how does manipulation (in particular, the short-term fourier transform) of the time-series acoustic data affect classification? This is useful in many different contexts, including robotics and automation, where an agent could make different decisions based on the sounds it hears.\n"
   ]
  },
  {
   "cell_type": "markdown",
   "id": "c6a0f11d6523fc9d",
   "metadata": {
    "collapsed": false
   },
   "source": [
    "Task 2. The dataset which is chosen comes from [here](https://project.inria.fr/desed/). It is a dataset of 10 different common household sounds. The sounds are: Alarm/bell/ringing, Blender, Cat, Dog, Dishes, Electric shaver/toothbrush, Frying, Running water, Speech, Vacuum cleaner.\n",
    "\n",
    "Initially, this project was to use the dataset built for robotics found [here](https://dhiraj100892.github.io/swoosh/). However, this dataset was hosted on dropbox and dropbox auto-disables links which have had many accesses, so I was unable to download this dataset. I sent emails to the authors of the papers, and received no response, so I switched to the most similar dataset I could find."
   ]
  },
  {
   "cell_type": "markdown",
   "id": "1337e27b5fe3f18d",
   "metadata": {
    "collapsed": false
   },
   "source": [
    "Task 3. Convolutional neural networks, as discussed in class, are frequently used to analyze time series and frequency domain data. I will be using a CNN to attempt to classify sounds in this dataset.\n"
   ]
  },
  {
   "cell_type": "markdown",
   "id": "fc25d3d2c6e66030",
   "metadata": {
    "collapsed": false
   },
   "source": [
    "NOTE: an important note to the grader. All of my code and related files are available [here](https://github.com/dbrenken-code/MECH501_asgn2), on my github. I cannot upload the dataset to mycourses, as it is approximately 5 gigabytes. Additionally, to grade this project ONLY cells marked with #TOGRADE need to be run. These will pull figures and other data from the directory. Replicating the results should be easy, as all model parameters (along with the model itself) are serialized under the \"Models\" directory. "
   ]
  },
  {
   "cell_type": "code",
   "execution_count": 1,
   "id": "e1a1f7b9a3b2c81d",
   "metadata": {
    "collapsed": false
   },
   "outputs": [
    {
     "name": "stdout",
     "output_type": "stream",
     "text": [
      "pygame 2.5.2 (SDL 2.28.3, Python 3.10.9)\n",
      "Hello from the pygame community. https://www.pygame.org/contribute.html\n"
     ]
    }
   ],
   "source": [
    "#MANDATORY\n",
    "#PYTHON VERSION 3.10 THIS IS IMPORTANT, NEWER VERSIONS WILL NOT WORK\n",
    "\n",
    "import os\n",
    "from matplotlib import pyplot as plt\n",
    "import tensorflow as tf         #2.10 THIS IS IMPORTANT, NEWER VERSIONS WILL NOT WORK\n",
    "#import tensorflow_io as tfio\n",
    "import numpy as np\n",
    "import pandas as pd\n",
    "from scipy.io import wavfile\n",
    "import scipy.signal as scsig \n",
    "from sklearn.preprocessing import StandardScaler\n",
    "from sklearn.model_selection import train_test_split\n",
    "import pygame\n",
    "import time\n",
    "from tqdm import tqdm\n",
    "from pathlib import Path\n"
   ]
  },
  {
   "cell_type": "markdown",
   "metadata": {},
   "source": [
    "A function definition for listening to .wav files and debugging:"
   ]
  },
  {
   "cell_type": "code",
   "execution_count": 2,
   "metadata": {},
   "outputs": [],
   "source": [
    "#MANDATORY\n",
    "def play_wav(file_path):\n",
    "    pygame.mixer.init()\n",
    "    pygame.mixer.music.load(file_path)\n",
    "    pygame.mixer.music.play()\n",
    "\n",
    "    # Wait for the sound to finish playing\n",
    "    while pygame.mixer.music.get_busy():\n",
    "        pygame.time.Clock().tick(10)\n",
    "\n",
    "    pygame.mixer.quit()"
   ]
  },
  {
   "cell_type": "code",
   "execution_count": 3,
   "metadata": {},
   "outputs": [],
   "source": [
    "def create_directory(directory_path):\n",
    "    # Check if the directory exists\n",
    "    if not os.path.exists(directory_path):\n",
    "        # Create the directory if it doesn't exist\n",
    "        os.makedirs(directory_path)\n",
    "        print(f\"Directory '{directory_path}' created.\")\n",
    "    else:\n",
    "        print(f\"Directory '{directory_path}' already exists.\")"
   ]
  },
  {
   "cell_type": "markdown",
   "metadata": {},
   "source": [
    "The plan to classify this data will be to use a CNN, as this was the original goal of the project. I will be performing spectral analysis of the time-domain signal to encode frequency information which might otherwise be lost by a NN. Therefore, the spectrogram (a 2-D input) will act as the input to my CNN. For consistency in spectrogram dimensions, we must resample the audio at a consistent rate, so I have defined a function to do that below"
   ]
  },
  {
   "cell_type": "code",
   "execution_count": 4,
   "id": "df6aedc96920579c",
   "metadata": {
    "collapsed": false
   },
   "outputs": [],
   "source": [
    "# MANDATORY\n",
    "def resample_audio(input_file, target_sample_rate, target_duration=10.0):\n",
    "    # Read the input .wav file\n",
    "    sample_rate, audio = wavfile.read(input_file)\n",
    "    \n",
    "    # Convert to mono if stereo\n",
    "    if len(audio.shape) > 1 and audio.shape[1] == 2:\n",
    "        audio = np.mean(audio, axis=1)\n",
    "\n",
    "    # Determine the current number of samples\n",
    "    num_samples = len(audio)\n",
    "\n",
    "    # Calculate the new number of samples after resampling\n",
    "    new_num_samples = int(num_samples * target_sample_rate / sample_rate)\n",
    "\n",
    "    # Resample the audio\n",
    "    resampled_audio = scsig.resample(audio, new_num_samples)\n",
    "\n",
    "    # Ensure the resampled array has the desired duration\n",
    "    target_samples = int(target_sample_rate * target_duration)\n",
    "    \n",
    "    if len(resampled_audio) < target_samples:\n",
    "        # Pad with zeros if the length is less\n",
    "        resampled_audio = np.pad(resampled_audio, (0, target_samples - len(resampled_audio)), 'constant')\n",
    "    elif len(resampled_audio) > target_samples:\n",
    "        # Truncate if the length is more\n",
    "        resampled_audio = resampled_audio[:target_samples]\n",
    "\n",
    "    return resampled_audio"
   ]
  },
  {
   "cell_type": "markdown",
   "metadata": {},
   "source": [
    "The hyperparameters of this function \"compute_spectrogram\" will eventually be tuned. I particularly want to examine the effect of changing the window function on CNN accuracy. As sound is made up of waves, spectral data is subject to the uncertainty principle. The more resolution one attains in the time domain, the less is available in the frequency domain, and vice versa. The window function, as well as window length and overlap, offer a way to control resolution in the time or frequency domain."
   ]
  },
  {
   "cell_type": "code",
   "execution_count": 5,
   "metadata": {},
   "outputs": [],
   "source": [
    "#MANDATORY\n",
    "def compute_spectrogram(audio, sample_rate, window_type='hann', nperseg=256, noverlap=32):\n",
    "    #ensure audio is 1-D\n",
    "    audio = tf.reshape(audio, [-1])\n",
    "    # Ensure audio is a NumPy array\n",
    "    audio = np.asarray(audio)\n",
    "\n",
    "    # Define a custom window function\n",
    "    window = scsig.get_window(window_type, nperseg)\n",
    "\n",
    "    # Compute the spectrogram using the custom window\n",
    "    _, _, Sxx = scsig.spectrogram(audio, fs=sample_rate, window=window, nperseg=nperseg, noverlap=noverlap)\n",
    "\n",
    "    # Convert to decibels\n",
    "    \n",
    "    # Add a small constant to avoid taking the log of zero\n",
    "    eps = 1e-10\n",
    "    Sxx_db = 10 * np.log10(Sxx + eps)\n",
    "    \n",
    "\n",
    "    return Sxx_db"
   ]
  },
  {
   "cell_type": "markdown",
   "metadata": {},
   "source": [
    "It is common practice to normalize spectrograms"
   ]
  },
  {
   "cell_type": "code",
   "execution_count": 6,
   "metadata": {},
   "outputs": [],
   "source": [
    "#MANDATORY\n",
    "def normalize_spectogram(spectrogram):\n",
    "    #this function normalizes the spectogram \n",
    "    # Reshape the spectrogram to be a 2D array\n",
    "    reshaped_spectrogram = np.reshape(spectrogram, (spectrogram.shape[0] * spectrogram.shape[1], 1))\n",
    "\n",
    "    # Use StandardScaler to normalize\n",
    "    scaler = StandardScaler()\n",
    "    normalized_spectrogram = scaler.fit_transform(reshaped_spectrogram)\n",
    "\n",
    "    # Reshape back to the original shape\n",
    "    normalized_spectrogram = np.reshape(normalized_spectrogram, spectrogram.shape)\n",
    "\n",
    "    return normalized_spectrogram"
   ]
  },
  {
   "cell_type": "code",
   "execution_count": 7,
   "metadata": {},
   "outputs": [],
   "source": [
    "#MANDATORY\n",
    "def save_spectrogram_to_file(spectrogram, filename):\n",
    "    \"\"\"Serialize and save a spectrogram to a file.\"\"\"\n",
    "    np.save(filename, spectrogram)\n",
    "\n",
    "def load_spectrogram_from_file(filename):\n",
    "    \"\"\"Load a spectrogram from a file.\"\"\"\n",
    "    return np.load(filename)\n"
   ]
  },
  {
   "cell_type": "markdown",
   "metadata": {},
   "source": [
    "The first step is to re-serialize all of the data as spectrograms. This will allow the CNN training process to be faster, as for each step, the program will not have to compute short-term fourier transforms or audio resampling."
   ]
  },
  {
   "cell_type": "code",
   "execution_count": 8,
   "metadata": {},
   "outputs": [],
   "source": [
    "#MANDATORY\n",
    "def map_data_as_spectro(sample_rate, window_type, nperseg, noverlap):\n",
    "    input_dir = \".\\\\CNN_data\\\\audio\"\n",
    "    output_dir = \".\\\\CNN_data\\\\spectrograms\"\n",
    "\n",
    "    # Create output directory if it doesn't exist\n",
    "    os.makedirs(output_dir, exist_ok=True)\n",
    "    \n",
    "    # Check if the output directory is empty\n",
    "    if not os.listdir(output_dir):\n",
    "        # Loop through the files in the input directory\n",
    "        for filename in tqdm(os.listdir(input_dir), desc=\"Processing files\"):\n",
    "            file_path_in = os.path.join(input_dir, filename)\n",
    "            \n",
    "            # Replace .wav extension with .npy\n",
    "            filename_base = os.path.splitext(filename)[0]\n",
    "            file_path_out = os.path.join(output_dir, f\"{filename_base}.npy\")\n",
    "\n",
    "            # Read and resample the audio\n",
    "            audio = resample_audio(file_path_in, sample_rate)\n",
    "\n",
    "            try:\n",
    "                # Compute and normalize the spectrogram\n",
    "                spectrogram = compute_spectrogram(audio, sample_rate, window_type=window_type, nperseg=nperseg, noverlap=noverlap)\n",
    "                spectrogram = normalize_spectogram(spectrogram)\n",
    "            except ValueError as e:\n",
    "                print(f\"Error processing file '{filename}': {e}\")\n",
    "                continue\n",
    "\n",
    "            # Save the spectrogram as a .npy file\n",
    "            save_spectrogram_to_file(spectrogram, file_path_out)\n",
    "    else:\n",
    "        print(f\"Output directory '{output_dir}' is not empty. Files not processed.\")\n",
    "\n"
   ]
  },
  {
   "cell_type": "markdown",
   "metadata": {},
   "source": [
    "The below code sets the hyperparams including the resample rate, nperseg, noverlap, and the window type. The function call writes the spectrograms as .npy files to the directory .\\\\CNN_data\\\\spectrograms"
   ]
  },
  {
   "cell_type": "code",
   "execution_count": 9,
   "metadata": {},
   "outputs": [
    {
     "name": "stdout",
     "output_type": "stream",
     "text": [
      "Output directory '.\\CNN_data\\spectrograms' is not empty. Files not processed.\n"
     ]
    }
   ],
   "source": [
    "#TRAIN\n",
    "# NOTE that the windowtype, nperseg, and noverlap are all hyperparams which change the resolution in the time/frequency domain depending on their values. I will be using default values to start\n",
    "resample_rate = 16000\n",
    "num_per_seg = 256\n",
    "num_overlap = 32\n",
    "window_type = 'hann'\n",
    "\n",
    "map_data_as_spectro(resample_rate, window_type=window_type, nperseg=num_per_seg, noverlap=num_overlap)"
   ]
  },
  {
   "cell_type": "markdown",
   "metadata": {},
   "source": [
    "Loading the labels from the tsv file containing labels"
   ]
  },
  {
   "cell_type": "code",
   "execution_count": 10,
   "metadata": {},
   "outputs": [],
   "source": [
    "# Load labels from TSV file\n",
    "labels_path = \".\\\\CNN_data\\\\weak_labels.tsv\"\n",
    "labels_df = pd.read_csv(labels_path, delimiter='\\t')\n",
    "\n",
    "file_column = 'filename'\n",
    "label_column = 'event_label'"
   ]
  },
  {
   "cell_type": "code",
   "execution_count": 11,
   "metadata": {},
   "outputs": [],
   "source": [
    "data_dir = \".\\\\CNN_data\\\\spectrograms\"\n",
    "file_paths = [os.path.join(data_dir, file.replace('.wav', '.npy')) for file in labels_df[file_column]]"
   ]
  },
  {
   "cell_type": "markdown",
   "metadata": {},
   "source": [
    "Re-defining the labels as a 10-element binary vector, where each element represents the presence/absence of an element inside the audio file."
   ]
  },
  {
   "cell_type": "code",
   "execution_count": 12,
   "metadata": {},
   "outputs": [],
   "source": [
    "def create_labels(label_str):\n",
    "    # ORDER: \n",
    "    # [0] ALARM_BELL_RINGING \n",
    "    # [1] BLENDER\n",
    "    # [2] CAT \n",
    "    # [3] DOG \n",
    "    # [4] DISHES\n",
    "    # [5] ELECTRIC_SHAVER_TOOTHBRUSH \n",
    "    # [6] FRYING \n",
    "    # [7] RUNNING_WATER \n",
    "    # [8] SPEECH\n",
    "    # [9] VACUUM_CLEANER\n",
    "    label_mapping = {\n",
    "        'alarm_bell_ringing': 0,\n",
    "        'blender': 1,\n",
    "        'cat': 2,\n",
    "        'dog': 3,\n",
    "        'dishes': 4,\n",
    "        'electric_shaver_toothbrush': 5,\n",
    "        'frying': 6,\n",
    "        'running_water': 7,\n",
    "        'speech': 8,\n",
    "        'vacuum_cleaner': 9\n",
    "    }\n",
    "\n",
    "    # Initialize a vector of length 10 with zeros\n",
    "    label_vector = np.zeros(10)\n",
    "\n",
    "    # Split the label_str into individual labels\n",
    "    \n",
    "    labels = label_str.split(',')\n",
    "    \n",
    "\n",
    "    # Map each label to its corresponding index in the vector\n",
    "    for label in labels:\n",
    "        label = label.strip().lower()  # Remove leading/trailing whitespaces and convert to lowercase\n",
    "        if label in label_mapping:\n",
    "            label_index = label_mapping[label]\n",
    "            label_vector[label_index] = 1\n",
    "\n",
    "    return label_vector.reshape(10)\n",
    "    "
   ]
  },
  {
   "cell_type": "code",
   "execution_count": 13,
   "metadata": {},
   "outputs": [],
   "source": [
    "labels = [create_labels(x) for x in labels_df[label_column]]"
   ]
  },
  {
   "cell_type": "markdown",
   "metadata": {},
   "source": [
    "Creating a dataframe"
   ]
  },
  {
   "cell_type": "code",
   "execution_count": 14,
   "metadata": {},
   "outputs": [],
   "source": [
    "data = pd.DataFrame({file_column: file_paths, label_column: labels})"
   ]
  },
  {
   "cell_type": "code",
   "execution_count": 15,
   "metadata": {},
   "outputs": [],
   "source": [
    "def load_data_from_file(filename_tensor):\n",
    "    # Use tf.py_function to call the load_data_from_file function\n",
    "    return tf.py_function(func=lambda filename: np.load(filename.numpy().decode('utf-8')), inp=[filename_tensor], Tout=tf.float32)\n",
    "\n",
    "def load_and_preprocess(file_path, label):\n",
    "    # Load and preprocess your spectrogram images (adjust as needed)\n",
    "    spectrogram = load_data_from_file(file_path)\n",
    "    return spectrogram, label\n",
    "\n",
    "def add_channel_dimension(x, y):\n",
    "    x = tf.expand_dims(x, axis=-1)\n",
    "    return x, y\n",
    "\n"
   ]
  },
  {
   "cell_type": "markdown",
   "metadata": {},
   "source": [
    "Setting a random seed which should allow for reproduceablility of data generation. Also, the below data splits the data into training, validation, and testing data:  \n",
    "Training: 65.6%  \n",
    "Validation: 16.4 %  \n",
    "Test: 18 %  \n",
    "\n",
    "(Note this split was later changed to ~70%, 10%, 15%)  \n",
    "The hyperparameters are set here  "
   ]
  },
  {
   "cell_type": "code",
   "execution_count": 16,
   "metadata": {},
   "outputs": [],
   "source": [
    "seed = 42\n",
    "model_name = \"model3\"\n",
    "\n",
    "np.random.seed(seed)\n",
    "seed_1 = seed               #42, 612, 201\n",
    "tf.random.set_seed(seed_1)  #currently the seed affects training/val/test data split as well as weights, I do not necessarily want this dependency\n",
    "kernel_size = 3\n",
    "max_pool_size = 2\n",
    "num_conv_filters = 32\n",
    "num_dense_layers = 4\n",
    "dense_layer_size = 64\n",
    "num_epochs = 8\n",
    "\n",
    "train_data, test_data = train_test_split(data, test_size=0.15, random_state=seed)\n",
    "train_data, val_data = train_test_split(train_data, test_size=0.15, random_state=seed)"
   ]
  },
  {
   "cell_type": "markdown",
   "metadata": {},
   "source": [
    "Creating the tensorflow datasets, and pre-shuffling them to remove structural biases"
   ]
  },
  {
   "cell_type": "code",
   "execution_count": 17,
   "metadata": {},
   "outputs": [],
   "source": [
    "# Create TensorFlow datasets\n",
    "batch_size = 16\n",
    "labels_array_train = np.asarray(train_data[label_column].tolist(), dtype=np.float32)\n",
    "train_dataset = tf.data.Dataset.from_tensor_slices((train_data[file_column], labels_array_train))\n",
    "train_dataset = train_dataset.map(load_and_preprocess)\n",
    "train_dataset = train_dataset.map(add_channel_dimension)\n",
    "train_dataset = train_dataset.shuffle(buffer_size=10000).batch(batch_size)\n",
    "train_dataset = train_dataset.prefetch(tf.data.AUTOTUNE)"
   ]
  },
  {
   "cell_type": "code",
   "execution_count": 18,
   "metadata": {},
   "outputs": [],
   "source": [
    "labels_array_val = np.asarray(val_data[label_column].tolist(), dtype=np.float32)\n",
    "val_dataset = tf.data.Dataset.from_tensor_slices((val_data[file_column], labels_array_val))\n",
    "val_dataset = val_dataset.map(load_and_preprocess)\n",
    "val_dataset = val_dataset.map(add_channel_dimension)\n",
    "val_dataset = val_dataset.batch(batch_size)\n",
    "val_dataset = val_dataset.prefetch(tf.data.AUTOTUNE)"
   ]
  },
  {
   "cell_type": "code",
   "execution_count": 19,
   "metadata": {},
   "outputs": [],
   "source": [
    "labels_array_test = np.asarray(test_data[label_column].tolist(), dtype=np.float32)\n",
    "test_dataset = tf.data.Dataset.from_tensor_slices((test_data[file_column], labels_array_test))\n",
    "test_dataset = test_dataset.map(load_and_preprocess)\n",
    "test_dataset = test_dataset.map(add_channel_dimension)\n",
    "test_dataset = test_dataset.batch(batch_size)\n",
    "test_dataset = test_dataset.prefetch(tf.data.AUTOTUNE)"
   ]
  },
  {
   "cell_type": "code",
   "execution_count": 20,
   "metadata": {},
   "outputs": [],
   "source": [
    "from tensorflow.keras.models import Sequential\n",
    "from tensorflow.keras.layers import Conv2D, Dense, Flatten"
   ]
  },
  {
   "cell_type": "code",
   "execution_count": 21,
   "metadata": {},
   "outputs": [],
   "source": [
    "#getting height & width from an arbitrary spectrogram, all spectrograms should be the SAME SIZE\n",
    "file_name = \"Y0BgI0XxW0kE_340.000_350.000\"\n",
    "path = os.path.join(\".\\\\CNN_data\\\\spectrograms\", (file_name + \".npy\"))\n",
    "spectrogram_1 = load_spectrogram_from_file(path)\n",
    "height, width = spectrogram_1.shape\n",
    "\n",
    "\n",
    "\n"
   ]
  },
  {
   "cell_type": "code",
   "execution_count": 22,
   "metadata": {},
   "outputs": [],
   "source": [
    "# Defining model\n",
    "model = tf.keras.Sequential([\n",
    "    \n",
    "    tf.keras.layers.Conv2D(num_conv_filters, (kernel_size, kernel_size), activation='relu', input_shape=(height, width, 1)),\n",
    "    tf.keras.layers.MaxPooling2D((max_pool_size, max_pool_size)),\n",
    "    tf.keras.layers.Flatten(),\n",
    "    tf.keras.layers.Dense(dense_layer_size),\n",
    "    tf.keras.layers.Dense(dense_layer_size),\n",
    "    tf.keras.layers.Dense(dense_layer_size, activation='relu'),\n",
    "    tf.keras.layers.Dense(10, activation='softmax')  # 10 outputs\n",
    "])\n"
   ]
  },
  {
   "cell_type": "code",
   "execution_count": 23,
   "metadata": {},
   "outputs": [],
   "source": [
    "model.compile(optimizer='Adam', loss='BinaryCrossentropy', metrics=[tf.keras.metrics.BinaryAccuracy(), tf.keras.metrics.Precision()])\n"
   ]
  },
  {
   "cell_type": "code",
   "execution_count": 24,
   "metadata": {},
   "outputs": [
    {
     "name": "stdout",
     "output_type": "stream",
     "text": [
      "Model: \"sequential\"\n",
      "_________________________________________________________________\n",
      " Layer (type)                Output Shape              Param #   \n",
      "=================================================================\n",
      " conv2d (Conv2D)             (None, 127, 712, 32)      320       \n",
      "                                                                 \n",
      " max_pooling2d (MaxPooling2D  (None, 63, 356, 32)      0         \n",
      " )                                                               \n",
      "                                                                 \n",
      " flatten (Flatten)           (None, 717696)            0         \n",
      "                                                                 \n",
      " dense (Dense)               (None, 64)                45932608  \n",
      "                                                                 \n",
      " dense_1 (Dense)             (None, 64)                4160      \n",
      "                                                                 \n",
      " dense_2 (Dense)             (None, 64)                4160      \n",
      "                                                                 \n",
      " dense_3 (Dense)             (None, 64)                4160      \n",
      "                                                                 \n",
      " dense_4 (Dense)             (None, 64)                4160      \n",
      "                                                                 \n",
      " dense_5 (Dense)             (None, 64)                4160      \n",
      "                                                                 \n",
      " dense_6 (Dense)             (None, 10)                650       \n",
      "                                                                 \n",
      "=================================================================\n",
      "Total params: 45,954,378\n",
      "Trainable params: 45,954,378\n",
      "Non-trainable params: 0\n",
      "_________________________________________________________________\n"
     ]
    }
   ],
   "source": [
    "model.summary()"
   ]
  },
  {
   "cell_type": "markdown",
   "metadata": {},
   "source": [
    "Training the model:"
   ]
  },
  {
   "cell_type": "code",
   "execution_count": 25,
   "metadata": {},
   "outputs": [
    {
     "name": "stdout",
     "output_type": "stream",
     "text": [
      "Epoch 1/8\n",
      "137/137 [==============================] - 9s 38ms/step - loss: 5.6902 - binary_accuracy: 0.8169 - precision: 0.3148 - val_loss: 0.6074 - val_binary_accuracy: 0.8525 - val_precision: 0.5439\n",
      "Epoch 2/8\n",
      "137/137 [==============================] - 8s 35ms/step - loss: 0.3593 - binary_accuracy: 0.8761 - precision: 0.6794 - val_loss: 0.4553 - val_binary_accuracy: 0.8475 - val_precision: 0.5282\n",
      "Epoch 3/8\n",
      "137/137 [==============================] - 8s 35ms/step - loss: 0.1916 - binary_accuracy: 0.9117 - precision: 0.9019 - val_loss: 0.5456 - val_binary_accuracy: 0.8327 - val_precision: 0.4009\n",
      "Epoch 4/8\n",
      "137/137 [==============================] - 8s 35ms/step - loss: 0.1228 - binary_accuracy: 0.9286 - precision: 0.9610 - val_loss: 0.4613 - val_binary_accuracy: 0.8571 - val_precision: 0.5759\n",
      "Epoch 5/8\n",
      "137/137 [==============================] - 8s 35ms/step - loss: 0.0800 - binary_accuracy: 0.9379 - precision: 0.9794 - val_loss: 0.5112 - val_binary_accuracy: 0.8623 - val_precision: 0.6172\n",
      "Epoch 6/8\n",
      "137/137 [==============================] - 8s 35ms/step - loss: 0.0570 - binary_accuracy: 0.9433 - precision: 0.9884 - val_loss: 0.7058 - val_binary_accuracy: 0.8532 - val_precision: 0.5467\n",
      "Epoch 7/8\n",
      "137/137 [==============================] - 8s 35ms/step - loss: 0.0531 - binary_accuracy: 0.9449 - precision: 0.9863 - val_loss: 0.6113 - val_binary_accuracy: 0.8429 - val_precision: 0.4880\n",
      "Epoch 8/8\n",
      "137/137 [==============================] - 8s 35ms/step - loss: 0.0405 - binary_accuracy: 0.9471 - precision: 0.9944 - val_loss: 0.9681 - val_binary_accuracy: 0.8351 - val_precision: 0.4461\n"
     ]
    }
   ],
   "source": [
    "history = model.fit(train_dataset, epochs=num_epochs, validation_data=val_dataset, batch_size = 16)"
   ]
  },
  {
   "cell_type": "code",
   "execution_count": 26,
   "metadata": {},
   "outputs": [
    {
     "name": "stdout",
     "output_type": "stream",
     "text": [
      "29/29 [==============================] - 1s 29ms/step - loss: 0.8469 - binary_accuracy: 0.8483 - precision: 0.4888\n",
      "Directory '.\\Models\\model2.4' created.\n"
     ]
    }
   ],
   "source": [
    "final_metrics = model.evaluate(test_dataset)\n",
    "create_directory(os.path.join(\".\\\\Models\", model_name))"
   ]
  },
  {
   "cell_type": "code",
   "execution_count": 27,
   "metadata": {},
   "outputs": [
    {
     "data": {
      "image/png": "[encoded data removed]",
      "text/plain": [
       "<Figure size 640x480 with 1 Axes>"
      ]
     },
     "metadata": {},
     "output_type": "display_data"
    }
   ],
   "source": [
    "# Plot loss over epochs\n",
    "plt.plot(history.history['loss'], label='Training Loss')\n",
    "plt.plot(history.history['val_loss'], label='Validation Loss')\n",
    "plt.xlabel('Epoch')\n",
    "plt.ylabel('Loss')\n",
    "plt.legend()\n",
    "plt.savefig(f\".\\\\Models\\\\{model_name}\\\\loss.png\")\n",
    "plt.show()\n"
   ]
  },
  {
   "cell_type": "code",
   "execution_count": 28,
   "metadata": {},
   "outputs": [
    {
     "data": {
      "image/png": "[encoded data removed]",
      "text/plain": [
       "<Figure size 640x480 with 1 Axes>"
      ]
     },
     "metadata": {},
     "output_type": "display_data"
    }
   ],
   "source": [
    "plt.plot(history.history['binary_accuracy'], label='Training Binary Accuracy')\n",
    "plt.plot(history.history['val_binary_accuracy'], label='Validation Binary Accuracy')\n",
    "plt.xlabel('Epoch')\n",
    "plt.ylabel('Binary Accuracy')\n",
    "plt.legend()\n",
    "plt.savefig(f\".\\\\Models\\\\{model_name}\\\\accuracy.png\")\n",
    "plt.show()"
   ]
  },
  {
   "cell_type": "code",
   "execution_count": 29,
   "metadata": {},
   "outputs": [
    {
     "data": {
      "image/png": "[encoded data removed]",
      "text/plain": [
       "<Figure size 640x480 with 1 Axes>"
      ]
     },
     "metadata": {},
     "output_type": "display_data"
    }
   ],
   "source": [
    "\n",
    "plt.plot(history.history['precision'], label='Training Precision')    #Note when re-running cell by cell, the precision_X increments by 1\n",
    "plt.plot(history.history['val_precision'], label='Validation Precision')\n",
    "plt.xlabel('Epoch')\n",
    "plt.ylabel('Precision')\n",
    "plt.legend()\n",
    "plt.savefig(f\".\\\\Models\\\\{model_name}\\\\Precision.png\")\n",
    "plt.show()\n"
   ]
  },
  {
   "cell_type": "code",
   "execution_count": 30,
   "metadata": {},
   "outputs": [
    {
     "name": "stdout",
     "output_type": "stream",
     "text": [
      "Generalization Error:\n",
      "Test Loss: 0.8469266295433044\n",
      "Test Binary Accuracy: 0.8483443856239319\n",
      "Test Precision: 0.4887780547142029\n"
     ]
    }
   ],
   "source": [
    "test_loss = final_metrics[0]\n",
    "test_binary_accuracy = final_metrics[1]\n",
    "test_precision = final_metrics[2]\n",
    "\n",
    "generalization_error = {\n",
    "    'Test Loss': test_loss,\n",
    "    'Test Binary Accuracy': test_binary_accuracy,\n",
    "    'Test Precision': test_precision\n",
    "}\n",
    "\n",
    "print(\"Generalization Error:\")\n",
    "for metric, value in generalization_error.items():\n",
    "    print(f\"{metric}: {value}\")"
   ]
  },
  {
   "cell_type": "code",
   "execution_count": 31,
   "metadata": {},
   "outputs": [],
   "source": [
    "model.save(os.path.join(\".\\\\Models\", model_name, (model_name + \".h5\")))\n",
    "\n",
    "hyperparams = [resample_rate, num_per_seg, num_overlap, window_type, kernel_size, max_pool_size, num_conv_filters, num_dense_layers, dense_layer_size, num_epochs, seed_1]\n",
    "\n",
    "import csv\n",
    "\n",
    "def write_hyperparameters_to_csv(file_path, hyper_params, generalization_error):\n",
    "    \"\"\"\n",
    "    Write hyperparameters and their corresponding values to a CSV file.\n",
    "\n",
    "    Parameters:\n",
    "    - file_path (str): The path to the CSV file.\n",
    "    - hyper_params (list): List of hyperparameter values.\n",
    "    \"\"\"\n",
    "    # Open the CSV file in write mode\n",
    "    with open(file_path, mode='w', newline='') as csv_file:\n",
    "        writer = csv.writer(csv_file)\n",
    "\n",
    "        # Write data rows\n",
    "        writer.writerow(['Resample Rate', hyper_params[0]])\n",
    "        writer.writerow(['Num Per Seg', hyper_params[1]])\n",
    "        writer.writerow(['Num Overlap', hyper_params[2]])\n",
    "        writer.writerow(['Window Type', hyper_params[3]])\n",
    "        writer.writerow(['Kernel Size', hyper_params[4]])\n",
    "        writer.writerow(['Max Pool Size', hyper_params[5]])\n",
    "        writer.writerow(['Num Conv Filters', hyper_params[6]])\n",
    "        writer.writerow(['Num Dense Layers', hyper_params[7]])\n",
    "        writer.writerow(['Dense Layer Size', hyper_params[8]])\n",
    "        writer.writerow(['Num Epochs', hyper_params[9]])\n",
    "        writer.writerow(['Seed', hyper_params[10]])\n",
    "        writer.writerow([\"Generalization Error:\"])\n",
    "        for metric, value in generalization_error.items():\n",
    "            writer.writerow([f\"{metric}: {value}\"])\n",
    "                \n",
    "write_hyperparameters_to_csv(os.path.join(\".\\\\Models\", model_name, (model_name + \".csv\")), hyper_params=hyperparams, generalization_error=generalization_error)"
   ]
  },
  {
   "cell_type": "markdown",
   "metadata": {},
   "source": [
    "#### CONCLUSION\n",
    "\n",
    "The initial model is here (model1):\n",
    "\n",
    "| Layer (type) | Output Shape | Param # |\n",
    "|-----------|-----------|-----------|\n",
    "| conv2d | (None, 127, 712, 32) | 320 |\n",
    "| max_pooling2d | (None, 63, 356, 32) | 0 |\n",
    "| flatten | (None, 717696) | 0 |\n",
    "| dense (Dense) | (None, 64) | 45932608 |\n",
    "| dense | (None, 10) | 650 |\n",
    "\n",
    "This model was set semi-arbitrarily. The logic behind setting the layers was as follows: the conv2d was required for satisfying the definition of a concolutional neural network. The max pooling layer helps to reduce the locality of information from the spectrogram, i.e. the NN will look for patterns with less regard to what frequency/time they appear at. Max pooling has previously been shown to improve image classification tasks [1].  \n",
    "The flatten layer is to transform the neural network from 2 dimensions to one dimension, as the output vector is 10x1. The dense layer is a classical fully connected layer, and to increase capacity I will add more layers of this exact type. The final layer transforms the required dimension to 10x1.  \n",
    "\n",
    "\n",
    "\n",
    "\n",
    "\n",
    "[1] J. Nagi et al., \"Max-pooling convolutional neural networks for vision-based hand gesture recognition,\" 2011 IEEE International Conference on Signal and Image Processing Applications (ICSIPA), Kuala Lumpur, Malaysia, 2011, pp. 342-347, doi: 10.1109/ICSIPA.2011.6144164."
   ]
  },
  {
   "cell_type": "markdown",
   "metadata": {},
   "source": [
    "Models 1-1.6 increase the number of epochs. My methodology was to keep the seed the same, unless a scenario arose where the precision (train, validation, and test) got into a \"rut\" and was 0 for several of the epochs. This indicates that no correct guesses were made. I posit that this is in part due to the dataset. The downloaded dataset (of which a large proportion of files were missing upon download) only contains around 3000 samples. This does not seem like a large enough number for a 10-class classifier, as if we simply perform a back-of the envelope calculation, this is only roughly 300 examples per category (not including category overlap, where two or more sounds are present in the audio file. Note that there is a LARGE amount of category overlap in this dataset). Due to the small amount of data, it is entirely possible that in the train/test/validation split, the validation or test data contains a large proportion of the label \"Cat\" for example, while the training data has almost no examples of this."
   ]
  },
  {
   "cell_type": "markdown",
   "metadata": {},
   "source": [
    "After model 1.6, I redid the training/test/validation split to have 15 percent test and ~10 percent validation, so that it is more likely to have enough test data. The generalization error graph, shown here: ![Local Image](./Results/test_loss_vs_epochs_1.png)  <br></br>does not provide a clear picture of the loss decreasing over time, reaching a minimum, then reaching an area of overfitting. This variation in the data is likely due to the high nonlinearity of the loss function. To counteract this, I would re-run the code with several different weight initializations and the same number of epochs, to ensure that I had reached the global minimum of the loss function. This is beyond the scoope of this project, however, as I would like to examine other factors besides the number of epochs. "
   ]
  },
  {
   "cell_type": "markdown",
   "metadata": {},
   "source": [
    "However, we can examine this phenomenon from <br></br> ![Local Image](./Models/model1.10/loss.png) <br></br> Which shows the training/validation loss over epochs. From this graph, it seems like the optimal number of epochs is approximately between 6-8. Although altering the model further will change what number of epochs is optimal, I will fix this hyperparameter at 8."
   ]
  },
  {
   "cell_type": "markdown",
   "metadata": {},
   "source": [
    "For model 2, I added a fully connected layer without an activation function. This increased the capacity of the CNN. Interestingly, after doing this, it seemed like the number of epochs was overfitting according to this plot: <br></br> ![Local image](./Models/model2/loss.png)"
   ]
  },
  {
   "cell_type": "markdown",
   "metadata": {},
   "source": [
    "Models 2-2.4 add one dense layer each. The test loss decreases, and then increases, with a minimum test loss of ~0.57 at 4 dense layers (2 additional layers compared with model 1). This had a test precision of almost 60%, so I will fix this hyperparameter."
   ]
  },
  {
   "cell_type": "code",
   "execution_count": 32,
   "metadata": {},
   "outputs": [],
   "source": [
    "def play_ping_sound():\n",
    "    # Initialize Pygame mixer\n",
    "    pygame.mixer.init()\n",
    "\n",
    "    # Load the ping sound file (replace 'ping_sound.wav' with your actual sound file)\n",
    "    sound_file = 'ping_sound.wav'\n",
    "    pygame.mixer.music.load(sound_file)\n",
    "\n",
    "    # Play the ping sound\n",
    "    pygame.mixer.music.play()\n",
    "\n",
    "    # Wait for the sound to finish playing\n",
    "    while pygame.mixer.music.get_busy():\n",
    "        time.sleep(1)\n",
    "        \n",
    "play_ping_sound()"
   ]
  }
 ],
 "metadata": {
  "kernelspec": {
   "display_name": "Python 3",
   "language": "python",
   "name": "python3"
  },
  "language_info": {
   "codemirror_mode": {
    "name": "ipython",
    "version": 3
   },
   "file_extension": ".py",
   "mimetype": "text/x-python",
   "name": "python",
   "nbconvert_exporter": "python",
   "pygments_lexer": "ipython3",
   "version": "3.10.9"
  }
 },
 "nbformat": 4,
 "nbformat_minor": 5
}
